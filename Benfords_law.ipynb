{
 "cells": [
  {
   "cell_type": "code",
   "execution_count": 106,
   "metadata": {},
   "outputs": [],
   "source": [
    "import random\n",
    "import math\n",
    "from operator import add"
   ]
  },
  {
   "cell_type": "code",
   "execution_count": 245,
   "metadata": {},
   "outputs": [
    {
     "name": "stdout",
     "output_type": "stream",
     "text": [
      "1 | 0.301\n",
      "2 | 0.176\n",
      "3 | 0.125\n",
      "4 | 0.097\n",
      "5 | 0.079\n",
      "6 | 0.067\n",
      "7 | 0.058\n",
      "8 | 0.051\n",
      "9 | 0.046\n"
     ]
    }
   ],
   "source": [
    "# [1,10^w)\n",
    "def calc_w(w):\n",
    "    t = (10**w - 1) // 9\n",
    "    return [t for _ in range(9)]\n",
    "\n",
    "\n",
    "# [1, n)\n",
    "def calc(n):\n",
    "    # print(\"calc\", n)\n",
    "    n = int(n)\n",
    "    w = 0\n",
    "    tmp = n\n",
    "    while tmp > 0:\n",
    "        tmp //= 10\n",
    "        w += 1\n",
    "    ret = calc_w(w-1)\n",
    "    m = 10**(w-1)\n",
    "    i = 0\n",
    "    tmp = n - m\n",
    "    while(tmp >= m):\n",
    "        ret[i] += m\n",
    "        tmp -= m\n",
    "        i += 1\n",
    "    ret[i] += tmp\n",
    "    return ret\n",
    "\n",
    "def norm(arr):\n",
    "    s = sum(arr)\n",
    "    if s == 0:\n",
    "        return arr\n",
    "    return list(map(lambda x: x / s, arr))\n",
    "\n",
    "def gen_n(N):\n",
    "    r = random.random() * N\n",
    "    return 2**r + 2\n",
    "\n",
    "def gen_n_1(N):\n",
    "    return random.random() * N * 1000 + 2\n",
    "\n",
    "\n",
    "def test(K, N):\n",
    "    ret = [0 for _ in range(9)]\n",
    "    for i in range(K):\n",
    "        n = gen_n(N)\n",
    "        cur = norm(calc(n))\n",
    "        ret = list(map(add, ret, cur))\n",
    "    ret = list(map(lambda x: x/K, ret))\n",
    "    return ret\n",
    "\n",
    "ret = test(100000, 1000)\n",
    "\n",
    "for i in range(9):\n",
    "    print(i+1, \"|\", \"{0:.3f}\".format(ret[i]))\n",
    "\n"
   ]
  }
 ],
 "metadata": {
  "kernelspec": {
   "display_name": "Python 3",
   "language": "python",
   "name": "python3"
  },
  "language_info": {
   "codemirror_mode": {
    "name": "ipython",
    "version": 3
   },
   "file_extension": ".py",
   "mimetype": "text/x-python",
   "name": "python",
   "nbconvert_exporter": "python",
   "pygments_lexer": "ipython3",
   "version": "3.7.3"
  }
 },
 "nbformat": 4,
 "nbformat_minor": 2
}
