{
 "cells": [
  {
   "cell_type": "code",
   "execution_count": 78,
   "id": "c86ce655-4da5-4b95-91b9-e595ccfbba1a",
   "metadata": {},
   "outputs": [],
   "source": [
    "import numpy as np\n",
    "import math\n",
    "from numpy import random\n",
    "from fractions import Fraction"
   ]
  },
  {
   "cell_type": "code",
   "execution_count": 105,
   "id": "88478002-629a-4eb0-b825-bfe32b949be8",
   "metadata": {},
   "outputs": [
    {
     "name": "stdout",
     "output_type": "stream",
     "text": [
      "(0.58697, 58697, 100000)\n"
     ]
    }
   ],
   "source": [
    "def sample(n):\n",
    "    return random.rand(n)\n",
    "\n",
    "\n",
    "def testOne(n,p):\n",
    "    x = sample(n)\n",
    "    x.sort()\n",
    "    if x[0] > p or 1 - x[-1] > p:\n",
    "        return False\n",
    "    for i in range(1,n):\n",
    "        if x[i] - x[i-1] > p:\n",
    "            return False\n",
    "    return True\n",
    "\n",
    "\n",
    "def testT(n,p,t):\n",
    "    r = 0\n",
    "    for i in range(t):\n",
    "        if testOne(n,p):\n",
    "            r += 1\n",
    "    return (r/t, r, t)\n",
    "\n",
    "def testDuckT(n,degree,t):\n",
    "    p, r, _= testT(n-1, 1 - degree / 360, t)\n",
    "    return 1 - p, t - r, t\n",
    "\n",
    "print(testDuckT(4,190,100000))"
   ]
  },
  {
   "cell_type": "code",
   "execution_count": 106,
   "id": "63c0497e-2cbf-47f3-8a27-6fa99e1c345b",
   "metadata": {},
   "outputs": [
    {
     "name": "stdout",
     "output_type": "stream",
     "text": [
      "1/2\n",
      "the probability of 4 ducks being within degree 190 is 6847/11664, 0.587019890260631\n"
     ]
    },
    {
     "data": {
      "text/plain": [
       "Fraction(6847, 11664)"
      ]
     },
     "execution_count": 106,
     "metadata": {},
     "output_type": "execute_result"
    }
   ],
   "source": [
    "# Irwin-Hasll distribution\n",
    "\n",
    "def F(n):\n",
    "    return math.factorial(n)\n",
    "\n",
    "def C(n,m):\n",
    "    ret = 1\n",
    "    for i in range(m):\n",
    "        ret *= (n - i)\n",
    "    for i in range(1, m+1):\n",
    "        ret //= i\n",
    "    return ret\n",
    "\n",
    "def cdf(n,x):\n",
    "    int_x = int(x)\n",
    "    ret = 0\n",
    "    for k in range(int_x+1):\n",
    "        #print(k,((-1)**k),C(n,k),((x - k)**n),((-1)**k) * C(n,k) * ((x - k)**n))\n",
    "        ret += ((-1)**k) * C(n,k) * ((x - k)**n)\n",
    "    return ret / F(n)\n",
    "\n",
    "def no_sol_prob(n,p,debug=False):\n",
    "    # n * p < 1\n",
    "    # n < 1 / p\n",
    "    a = cdf(n, 1 / p)\n",
    "    if debug:\n",
    "        print(\"a\", n, 1/p, cdf(n,1/p), a)\n",
    "    # n * p > 1 - p\n",
    "    # n > (1 - p) / p\n",
    "    b = cdf(n, (1 - p) / p)\n",
    "    if debug:\n",
    "        print(\"b\", n, (1-p)/p, cdf(n,(1-p)/p), b)\n",
    "        print(\"a-b\",a-b)\n",
    "    return a - b\n",
    "\n",
    "def no_sol_prob_scaled(n, _p,debug=False):\n",
    "    p = Fraction(_p)\n",
    "    region_all = Fraction(1,F(n))\n",
    "    if debug:\n",
    "        print(\"region_all\", region_all)\n",
    "    region_p = p**n\n",
    "    if debug:\n",
    "        print(\"region_p\", p, n, region_p)\n",
    "        print(\"p/all\", region_p / region_all)\n",
    "    no_sol_region = no_sol_prob(n, p) * region_p\n",
    "    if debug:\n",
    "        print(\"no_sol_region\", no_sol_prob(n,p,True), no_sol_region)\n",
    "    return no_sol_region / region_all\n",
    "\n",
    "\n",
    "def sol_prod(n, p):\n",
    "    return 1 - no_sol_prob_scaled(n, p)\n",
    "\n",
    "print(ans_prob(3, 0.5))\n",
    "\n",
    "\n",
    "def duck_circle(n, degree):\n",
    "    ans = sol_prod(n-1, Fraction(360-degree,360))\n",
    "    print(\"the probability of %d ducks being within degree %d is %s, %s\" % (n, degree, ans, float(ans)))\n",
    "    return ans\n",
    "\n",
    "duck_circle(4,190)\n",
    "    "
   ]
  },
  {
   "cell_type": "code",
   "execution_count": 74,
   "id": "c040441e-338b-46d8-aa15-5110af32a248",
   "metadata": {},
   "outputs": [
    {
     "data": {
      "text/plain": [
       "0.16666666666666666"
      ]
     },
     "execution_count": 74,
     "metadata": {},
     "output_type": "execute_result"
    }
   ],
   "source": [
    "1/6"
   ]
  },
  {
   "cell_type": "code",
   "execution_count": null,
   "id": "e09c4052-7281-4513-aa06-1b59aa183b9a",
   "metadata": {},
   "outputs": [],
   "source": []
  }
 ],
 "metadata": {
  "kernelspec": {
   "display_name": "Python 3 (ipykernel)",
   "language": "python",
   "name": "python3"
  },
  "language_info": {
   "codemirror_mode": {
    "name": "ipython",
    "version": 3
   },
   "file_extension": ".py",
   "mimetype": "text/x-python",
   "name": "python",
   "nbconvert_exporter": "python",
   "pygments_lexer": "ipython3",
   "version": "3.8.13"
  }
 },
 "nbformat": 4,
 "nbformat_minor": 5
}
